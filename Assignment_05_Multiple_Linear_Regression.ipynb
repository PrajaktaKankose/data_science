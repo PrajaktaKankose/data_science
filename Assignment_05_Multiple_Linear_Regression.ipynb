{
  "nbformat": 4,
  "nbformat_minor": 0,
  "metadata": {
    "colab": {
      "name": "Assignment-05-Multiple Linear Regression.ipynb",
      "provenance": [],
      "collapsed_sections": [],
      "authorship_tag": "ABX9TyOZPDKQSjehmB1feffocTjZ",
      "include_colab_link": true
    },
    "kernelspec": {
      "name": "python3",
      "display_name": "Python 3"
    },
    "language_info": {
      "name": "python"
    }
  },
  "cells": [
    {
      "cell_type": "markdown",
      "metadata": {
        "id": "view-in-github",
        "colab_type": "text"
      },
      "source": [
        "<a href=\"https://colab.research.google.com/github/PrajaktaKankose/data_science/blob/main/Assignment_05_Multiple_Linear_Regression.ipynb\" target=\"_parent\"><img src=\"https://colab.research.google.com/assets/colab-badge.svg\" alt=\"Open In Colab\"/></a>"
      ]
    },
    {
      "cell_type": "code",
      "metadata": {
        "id": "uFmMcHdWw1Ec"
      },
      "source": [
        "# Import Libraries\n",
        "import pandas as pd\n",
        "import numpy as np\n",
        "import matplotlib.pyplot as plt\n",
        "import seaborn as sns\n",
        "import statsmodels.formula.api as smf\n",
        "import statsmodels.api as sm\n",
        "from statsmodels.graphics.regressionplots import influence_plot"
      ],
      "execution_count": null,
      "outputs": []
    },
    {
      "cell_type": "markdown",
      "source": [
        "Q 1)"
      ],
      "metadata": {
        "id": "2mMRsvSOCMMR"
      }
    },
    {
      "cell_type": "code",
      "metadata": {
        "id": "TITTUMmsxFmC"
      },
      "source": [
        "# import dataset\n",
        "toyo=pd.read_csv('ToyotaCorolla.csv',encoding='latin1')\n",
        "toyo"
      ],
      "execution_count": null,
      "outputs": []
    },
    {
      "cell_type": "code",
      "metadata": {
        "id": "n2pjm8Y5xNOd"
      },
      "source": [
        "toyo.info()"
      ],
      "execution_count": null,
      "outputs": []
    },
    {
      "cell_type": "code",
      "metadata": {
        "id": "AroMJaOTxVlp"
      },
      "source": [
        "toyo2=pd.concat([toyo.iloc[:,2:4],toyo.iloc[:,6:7],toyo.iloc[:,8:9],toyo.iloc[:,12:14],toyo.iloc[:,15:18]],axis=1)\n",
        "toyo2"
      ],
      "execution_count": null,
      "outputs": []
    },
    {
      "cell_type": "code",
      "metadata": {
        "id": "2r4l936YxcDf"
      },
      "source": [
        "toyo3=toyo2.rename({'Age_08_04':'Age','cc':'CC','Quarterly_Tax':'QT'},axis=1)\n",
        "toyo3"
      ],
      "execution_count": null,
      "outputs": []
    },
    {
      "cell_type": "code",
      "metadata": {
        "id": "qEdUU3snxgBl"
      },
      "source": [
        "toyo3[toyo3.duplicated()]"
      ],
      "execution_count": null,
      "outputs": []
    },
    {
      "cell_type": "code",
      "metadata": {
        "id": "zLjK7Mtyxjkd"
      },
      "source": [
        "toyo4=toyo3.drop_duplicates().reset_index(drop=True)\n",
        "toyo4"
      ],
      "execution_count": null,
      "outputs": []
    },
    {
      "cell_type": "code",
      "metadata": {
        "id": "huh-gd0wxmos"
      },
      "source": [
        "toyo4.describe()"
      ],
      "execution_count": null,
      "outputs": []
    },
    {
      "cell_type": "code",
      "metadata": {
        "id": "yIKGqUCbx52_"
      },
      "source": [
        "#Correlation Analysis"
      ],
      "execution_count": null,
      "outputs": []
    },
    {
      "cell_type": "code",
      "metadata": {
        "id": "OTTysvcCyNWX"
      },
      "source": [
        "toyo4.corr()"
      ],
      "execution_count": null,
      "outputs": []
    },
    {
      "cell_type": "code",
      "metadata": {
        "id": "nX77J3IDyQz-"
      },
      "source": [
        "sns.set_style(style='darkgrid')\n",
        "sns.pairplot(toyo4)"
      ],
      "execution_count": null,
      "outputs": []
    },
    {
      "cell_type": "code",
      "metadata": {
        "id": "ygSJNqmXyV-g"
      },
      "source": [
        "#Model Building"
      ],
      "execution_count": null,
      "outputs": []
    },
    {
      "cell_type": "code",
      "metadata": {
        "id": "ivCsud06yqDd"
      },
      "source": [
        "model=smf.ols('Price~Age+KM+HP+CC+Doors+Gears+QT+Weight',data=toyo4).fit()"
      ],
      "execution_count": null,
      "outputs": []
    },
    {
      "cell_type": "code",
      "metadata": {
        "id": "XTEbWHyxytzb"
      },
      "source": [
        "#Model Testing"
      ],
      "execution_count": null,
      "outputs": []
    },
    {
      "cell_type": "code",
      "metadata": {
        "id": "F11h1xDWyyAW"
      },
      "source": [
        "# Finding Coefficient parameters\n",
        "model.params"
      ],
      "execution_count": null,
      "outputs": []
    },
    {
      "cell_type": "code",
      "metadata": {
        "id": "DlAHomRUy2MC"
      },
      "source": [
        "# Finding tvalues and pvalues\n",
        "model.tvalues , np.round(model.pvalues,5)"
      ],
      "execution_count": null,
      "outputs": []
    },
    {
      "cell_type": "code",
      "metadata": {
        "id": "ZWpeYWZYy5pz"
      },
      "source": [
        "# Finding rsquared values\n",
        "model.rsquared , model.rsquared_adj   # Model accuracy is 86.17%"
      ],
      "execution_count": null,
      "outputs": []
    },
    {
      "cell_type": "code",
      "metadata": {
        "id": "3XGThH9my-U-"
      },
      "source": [
        "# Build SLR and MLR models for insignificant variables 'CC' and 'Doors'\n",
        "# Also find their tvalues and pvalues"
      ],
      "execution_count": null,
      "outputs": []
    },
    {
      "cell_type": "code",
      "metadata": {
        "id": "mATDL69nzFCX"
      },
      "source": [
        "slr_c=smf.ols('Price~CC',data=toyo4).fit()\n",
        "slr_c.tvalues , slr_c.pvalues # CC has significant pvalue"
      ],
      "execution_count": null,
      "outputs": []
    },
    {
      "cell_type": "code",
      "metadata": {
        "id": "wzI1Uk0XzJRa"
      },
      "source": [
        "slr_d=smf.ols('Price~Doors',data=toyo4).fit()\n",
        "slr_d.tvalues , slr_d.pvalues # Doors has significant pvalue"
      ],
      "execution_count": null,
      "outputs": []
    },
    {
      "cell_type": "code",
      "metadata": {
        "id": "GuuLypBszNUE"
      },
      "source": [
        "mlr_cd=smf.ols('Price~CC+Doors',data=toyo4).fit()\n",
        "mlr_cd.tvalues , mlr_cd.pvalues # CC & Doors have significant pvalue"
      ],
      "execution_count": null,
      "outputs": []
    },
    {
      "cell_type": "code",
      "metadata": {
        "id": "NYDCTqjMzSGp"
      },
      "source": [
        "#Model Validation Techniques\n",
        "#Two Techniques: 1. Collinearity Check & 2. Residual Analysis"
      ],
      "execution_count": null,
      "outputs": []
    },
    {
      "cell_type": "code",
      "metadata": {
        "id": "GfyDCcTczaEy"
      },
      "source": [
        "# 1) Collinearity Problem Check\n",
        "# Calculate VIF = 1/(1-Rsquare) for all independent variables\n",
        "\n",
        "rsq_age=smf.ols('Age~KM+HP+CC+Doors+Gears+QT+Weight',data=toyo4).fit().rsquared\n",
        "vif_age=1/(1-rsq_age)\n",
        "\n",
        "rsq_KM=smf.ols('KM~Age+HP+CC+Doors+Gears+QT+Weight',data=toyo4).fit().rsquared\n",
        "vif_KM=1/(1-rsq_KM)\n",
        "\n",
        "rsq_HP=smf.ols('HP~Age+KM+CC+Doors+Gears+QT+Weight',data=toyo4).fit().rsquared\n",
        "vif_HP=1/(1-rsq_HP)\n",
        "\n",
        "rsq_CC=smf.ols('CC~Age+KM+HP+Doors+Gears+QT+Weight',data=toyo4).fit().rsquared\n",
        "vif_CC=1/(1-rsq_CC)\n",
        "\n",
        "rsq_DR=smf.ols('Doors~Age+KM+HP+CC+Gears+QT+Weight',data=toyo4).fit().rsquared\n",
        "vif_DR=1/(1-rsq_DR)\n",
        "\n",
        "rsq_GR=smf.ols('Gears~Age+KM+HP+CC+Doors+QT+Weight',data=toyo4).fit().rsquared\n",
        "vif_GR=1/(1-rsq_GR)\n",
        "\n",
        "rsq_QT=smf.ols('QT~Age+KM+HP+CC+Doors+Gears+Weight',data=toyo4).fit().rsquared\n",
        "vif_QT=1/(1-rsq_QT)\n",
        "\n",
        "rsq_WT=smf.ols('Weight~Age+KM+HP+CC+Doors+Gears+QT',data=toyo4).fit().rsquared\n",
        "vif_WT=1/(1-rsq_WT)\n",
        "\n",
        "# Putting the values in Dataframe format\n",
        "d1={'Variables':['Age','KM','HP','CC','Doors','Gears','QT','Weight'],\n",
        "    'Vif':[vif_age,vif_KM,vif_HP,vif_CC,vif_DR,vif_GR,vif_QT,vif_WT]}\n",
        "Vif_df=pd.DataFrame(d1)\n",
        "Vif_df"
      ],
      "execution_count": null,
      "outputs": []
    },
    {
      "cell_type": "code",
      "metadata": {
        "id": "ZzUvusL9zh9q"
      },
      "source": [
        "# None variable has VIF>20, No Collinearity, so consider all varaibles in Regression equation"
      ],
      "execution_count": null,
      "outputs": []
    },
    {
      "cell_type": "code",
      "metadata": {
        "id": "b-CCoFxeznDU"
      },
      "source": [
        "# 2) Residual Analysis\n",
        "# Test for Normality of Residuals (Q-Q Plot) using residual model (model.resid)\n",
        "sm.qqplot(model.resid,line='q') # 'q' - A line is fit through the quartiles # line = '45'- to draw the 45-degree diagonal line\n",
        "plt.title(\"Normal Q-Q plot of residuals\")\n",
        "plt.show()\n"
      ],
      "execution_count": null,
      "outputs": []
    },
    {
      "cell_type": "code",
      "metadata": {
        "id": "xOjFrj_nzq_D"
      },
      "source": [
        "list(np.where(model.resid>6000))  # outliar detection from above QQ plot of residuals"
      ],
      "execution_count": null,
      "outputs": []
    },
    {
      "cell_type": "code",
      "metadata": {
        "id": "ZOx6OXhF1Hl4"
      },
      "source": [
        "list(np.where(model.resid<-6000))"
      ],
      "execution_count": null,
      "outputs": []
    },
    {
      "cell_type": "code",
      "metadata": {
        "id": "ExUpFg2O1LN7"
      },
      "source": [
        "# Test for Homoscedasticity or Heteroscedasticity (plotting model's standardized fitted values vs standardized residual values)\n",
        "\n",
        "def standard_values(vals) : return (vals-vals.mean())/vals.std()  # User defined z = (x - mu)/sigma"
      ],
      "execution_count": null,
      "outputs": []
    },
    {
      "cell_type": "code",
      "metadata": {
        "id": "fd4Kt5M-1Onz"
      },
      "source": [
        "plt.scatter(standard_values(model.fittedvalues),standard_values(model.resid))\n",
        "plt.title('Residual Plot')\n",
        "plt.xlabel('standardized fitted values')\n",
        "plt.ylabel('standardized residual values')\n",
        "plt.show() "
      ],
      "execution_count": null,
      "outputs": []
    },
    {
      "cell_type": "code",
      "metadata": {
        "id": "OmOavBMq1Rpt"
      },
      "source": [
        "# Test for errors or Residuals Vs Regressors or independent 'x' variables or predictors \n",
        "# using Residual Regression Plots code graphics.plot_regress_exog(model,'x',fig)    # exog = x-variable & endog = y-variablefig=plt.figure(figsize=(15,8))"
      ],
      "execution_count": null,
      "outputs": []
    },
    {
      "cell_type": "code",
      "metadata": {
        "id": "HcQdd0U71Vvm"
      },
      "source": [
        "fig=plt.figure(figsize=(15,8))\n",
        "sm.graphics.plot_regress_exog(model,'Age',fig=fig)\n",
        "plt.show()"
      ],
      "execution_count": null,
      "outputs": []
    },
    {
      "cell_type": "code",
      "metadata": {
        "id": "z8W5NHHP1jDc"
      },
      "source": [
        "fig=plt.figure(figsize=(15,8))\n",
        "sm.graphics.plot_regress_exog(model,'KM',fig=fig)\n",
        "plt.show()"
      ],
      "execution_count": null,
      "outputs": []
    },
    {
      "cell_type": "code",
      "metadata": {
        "id": "l3h1uKXd19yz"
      },
      "source": [
        "fig=plt.figure(figsize=(15,8))\n",
        "sm.graphics.plot_regress_exog(model,'HP',fig=fig)\n",
        "plt.show()"
      ],
      "execution_count": null,
      "outputs": []
    },
    {
      "cell_type": "code",
      "metadata": {
        "id": "e4PjcNP12CvS"
      },
      "source": [
        "fig=plt.figure(figsize=(15,8))\n",
        "sm.graphics.plot_regress_exog(model,'CC',fig=fig)\n",
        "plt.show()"
      ],
      "execution_count": null,
      "outputs": []
    },
    {
      "cell_type": "code",
      "metadata": {
        "id": "lLMUisTD2IIe"
      },
      "source": [
        "fig=plt.figure(figsize=(15,8))\n",
        "sm.graphics.plot_regress_exog(model,'Doors',fig=fig)\n",
        "plt.show()"
      ],
      "execution_count": null,
      "outputs": []
    },
    {
      "cell_type": "code",
      "metadata": {
        "id": "j8EsIZJC2MGz"
      },
      "source": [
        "fig=plt.figure(figsize=(15,8))\n",
        "sm.graphics.plot_regress_exog(model,'Gears',fig=fig)\n",
        "plt.show()"
      ],
      "execution_count": null,
      "outputs": []
    },
    {
      "cell_type": "code",
      "metadata": {
        "id": "nxnHl8vj2QqL"
      },
      "source": [
        "fig=plt.figure(figsize=(15,8))\n",
        "sm.graphics.plot_regress_exog(model,'QT',fig=fig)\n",
        "plt.show()"
      ],
      "execution_count": null,
      "outputs": []
    },
    {
      "cell_type": "code",
      "metadata": {
        "id": "dA8e6WvO2U3K"
      },
      "source": [
        "fig=plt.figure(figsize=(15,8))\n",
        "sm.graphics.plot_regress_exog(model,'Weight',fig=fig)\n",
        "plt.show()"
      ],
      "execution_count": null,
      "outputs": []
    },
    {
      "cell_type": "code",
      "metadata": {
        "id": "4k1jCKMR2Y8l"
      },
      "source": [
        "#Model Deletion Diagnostics (checking Outliers or Influencers)\n",
        "#Two Techniques : 1. Cook's Distance & 2. Leverage value"
      ],
      "execution_count": null,
      "outputs": []
    },
    {
      "cell_type": "code",
      "metadata": {
        "id": "eo-ZjOWE2hEM"
      },
      "source": [
        "# 1. Cook's Distance: If Cook's distance > 1, then it's an outlier\n",
        "# Get influencers using cook's distance\n",
        "(c,_)=model.get_influence().cooks_distance\n",
        "c"
      ],
      "execution_count": null,
      "outputs": []
    },
    {
      "cell_type": "code",
      "metadata": {
        "id": "4D2CN0mI2mBw"
      },
      "source": [
        "# Plot the influencers using the stem plot\n",
        "fig=plt.figure(figsize=(20,7))\n",
        "plt.stem(np.arange(len(toyo4)),np.round(c,3))\n",
        "plt.xlabel('Row Index')\n",
        "plt.ylabel('Cooks Distance')\n",
        "plt.show()"
      ],
      "execution_count": null,
      "outputs": []
    },
    {
      "cell_type": "code",
      "metadata": {
        "id": "dxtAqsuO2pb5"
      },
      "source": [
        "# Index and value of influencer where C>0.5\n",
        "np.argmax(c) , np.max(c)"
      ],
      "execution_count": null,
      "outputs": []
    },
    {
      "cell_type": "code",
      "metadata": {
        "id": "ocgp2D4L2uW_"
      },
      "source": [
        "# 2. Leverage Value using High Influence Points : Points beyond Leverage_cutoff value are influencers\n",
        "fig,ax=plt.subplots(figsize=(20,20))\n",
        "fig=influence_plot(model,ax = ax)"
      ],
      "execution_count": null,
      "outputs": []
    },
    {
      "cell_type": "code",
      "metadata": {
        "id": "TE81MRGJ2xuE"
      },
      "source": [
        "# Leverage Cuttoff Value = 3*(k+1)/n ; k = no.of features/columns & n = no. of datapoints\n",
        "k=toyo4.shape[1]\n",
        "n=toyo4.shape[0]\n",
        "leverage_cutoff = (3*(k+1))/n\n",
        "leverage_cutoff"
      ],
      "execution_count": null,
      "outputs": []
    },
    {
      "cell_type": "code",
      "metadata": {
        "id": "VYMY-JJ_22sN"
      },
      "source": [
        "toyo4[toyo4.index.isin([80])] "
      ],
      "execution_count": null,
      "outputs": []
    },
    {
      "cell_type": "code",
      "metadata": {
        "id": "DXInKKDw26n8"
      },
      "source": [
        "#Improving the Model"
      ],
      "execution_count": null,
      "outputs": []
    },
    {
      "cell_type": "code",
      "metadata": {
        "id": "x583qbV43C7B"
      },
      "source": [
        "# Creating a copy of data so that original dataset is not affected\n",
        "toyo_new=toyo4.copy()\n",
        "toyo_new"
      ],
      "execution_count": null,
      "outputs": []
    },
    {
      "cell_type": "code",
      "metadata": {
        "id": "zJL03C1k3D8G"
      },
      "source": [
        "# Discard the data points which are influencers and reassign the row number (reset_index(drop=True))\n",
        "toyo5=toyo_new.drop(toyo_new.index[[80]],axis=0).reset_index(drop=True)\n",
        "toyo5"
      ],
      "execution_count": null,
      "outputs": []
    },
    {
      "cell_type": "code",
      "metadata": {
        "id": "8kp3a-0J3Hgv"
      },
      "source": [
        "#Model Deletion Diagnostics and Final Model"
      ],
      "execution_count": null,
      "outputs": []
    },
    {
      "cell_type": "code",
      "metadata": {
        "id": "lBGcZwn83OOh"
      },
      "source": [
        "while np.max(c)>0.5 :\n",
        "    model=smf.ols('Price~Age+KM+HP+CC+Doors+Gears+QT+Weight',data=toyo5).fit()\n",
        "    (c,_)=model.get_influence().cooks_distance\n",
        "    c\n",
        "    np.argmax(c) , np.max(c)\n",
        "    toyo5=toyo5.drop(toyo5.index[[np.argmax(c)]],axis=0).reset_index(drop=True)\n",
        "    toyo5\n",
        "else:\n",
        "    final_model=smf.ols('Price~Age+KM+HP+CC+Doors+Gears+QT+Weight',data=toyo5).fit()\n",
        "    final_model.rsquared , final_model.aic\n",
        "    print(\"Thus model accuracy is improved to\",final_model.rsquared)\n"
      ],
      "execution_count": null,
      "outputs": []
    },
    {
      "cell_type": "markdown",
      "source": [
        ""
      ],
      "metadata": {
        "id": "1Qxp7cKPP5tj"
      }
    },
    {
      "cell_type": "code",
      "metadata": {
        "id": "LO4RQQtL3R5c"
      },
      "source": [
        "if np.max(c)>0.5:\n",
        "    model=smf.ols('Price~Age+KM+HP+CC+Doors+Gears+QT+Weight',data=toyo5).fit()\n",
        "    (c,_)=model.get_influence().cooks_distance\n",
        "    c\n",
        "    np.argmax(c) , np.max(c)\n",
        "    toyo5=toyo5.drop(toyo5.index[[np.argmax(c)]],axis=0).reset_index(drop=True)\n",
        "    toyo5 \n",
        "elif np.max(c)<0.5:\n",
        "    final_model=smf.ols('Price~Age+KM+HP+CC+Doors+Gears+QT+Weight',data=toyo5).fit()\n",
        "    final_model.rsquared , final_model.aic\n",
        "    print(\"Thus model accuracy is improved to\",final_model.rsquared)"
      ],
      "execution_count": null,
      "outputs": []
    },
    {
      "cell_type": "code",
      "metadata": {
        "id": "mSLhzm6c3V8A"
      },
      "source": [
        "final_model.rsquared"
      ],
      "execution_count": null,
      "outputs": []
    },
    {
      "cell_type": "code",
      "metadata": {
        "id": "Il_FmZFY3Ziv"
      },
      "source": [
        "toyo5"
      ],
      "execution_count": null,
      "outputs": []
    },
    {
      "cell_type": "code",
      "metadata": {
        "id": "u6A4tsv_3f8E"
      },
      "source": [
        "#Model Predictions"
      ],
      "execution_count": null,
      "outputs": []
    },
    {
      "cell_type": "code",
      "metadata": {
        "id": "fkdyrjTt3k5Y"
      },
      "source": [
        "# say New data for prediction is\n",
        "new_data=pd.DataFrame({'Age':12,\"KM\":40000,\"HP\":80,\"CC\":1300,\"Doors\":4,\"Gears\":5,\"QT\":69,\"Weight\":1012},index=[0])\n",
        "new_data"
      ],
      "execution_count": null,
      "outputs": []
    },
    {
      "cell_type": "code",
      "metadata": {
        "id": "uxrkJ5Sb3oHt"
      },
      "source": [
        "# Manual Prediction of Price\n",
        "final_model.predict(new_data)"
      ],
      "execution_count": null,
      "outputs": []
    },
    {
      "cell_type": "code",
      "source": [
        ""
      ],
      "metadata": {
        "id": "4W8pdOt_QCtt"
      },
      "execution_count": null,
      "outputs": []
    },
    {
      "cell_type": "code",
      "metadata": {
        "id": "JCavdxH43sCw"
      },
      "source": [
        "# Automatic Prediction of Price with 90.02% accurcy\n",
        "pred_y=final_model.predict(toyo5)\n",
        "pred_y"
      ],
      "execution_count": null,
      "outputs": []
    },
    {
      "cell_type": "code",
      "metadata": {
        "id": "qzKH0mMi3wvB"
      },
      "source": [
        ""
      ],
      "execution_count": null,
      "outputs": []
    },
    {
      "cell_type": "markdown",
      "source": [
        "Q 2)"
      ],
      "metadata": {
        "id": "uQr_zkORCxF5"
      }
    },
    {
      "cell_type": "code",
      "source": [
        "# import Libraries\n",
        "import pandas as pd\n",
        "import numpy as np\n",
        "import matplotlib.pyplot as plt\n",
        "import seaborn as sns\n",
        "import statsmodels.formula.api as smf\n",
        "import statsmodels.api as sm\n",
        "from statsmodels.graphics.regressionplots import influence_plot"
      ],
      "metadata": {
        "id": "H1hjAFivC4bW"
      },
      "execution_count": null,
      "outputs": []
    },
    {
      "cell_type": "code",
      "source": [
        "# import dataset\n",
        "data=pd.read_csv(\"50_Startups.csv\")\n",
        "data"
      ],
      "metadata": {
        "id": "3mqfJQRUC9dj"
      },
      "execution_count": null,
      "outputs": []
    },
    {
      "cell_type": "code",
      "source": [
        "#EDA"
      ],
      "metadata": {
        "id": "ZJjGZU4oDGj8"
      },
      "execution_count": null,
      "outputs": []
    },
    {
      "cell_type": "code",
      "source": [
        "data.info()"
      ],
      "metadata": {
        "id": "0HzulyEADW5D"
      },
      "execution_count": null,
      "outputs": []
    },
    {
      "cell_type": "code",
      "source": [
        "data1=data.rename({'R&D Spend':'RDS','Administration':'ADMS','Marketing Spend':'MKTS'},axis=1)\n",
        "data1"
      ],
      "metadata": {
        "id": "mCIyrFIZDZWy"
      },
      "execution_count": null,
      "outputs": []
    },
    {
      "cell_type": "code",
      "source": [
        "data1[data.duplicated()]   # No duplicated data"
      ],
      "metadata": {
        "id": "myNQVBLcDc0L"
      },
      "execution_count": null,
      "outputs": []
    },
    {
      "cell_type": "code",
      "source": [
        "data1.describe()"
      ],
      "metadata": {
        "id": "awftvi4TDfl3"
      },
      "execution_count": null,
      "outputs": []
    },
    {
      "cell_type": "code",
      "source": [
        "#Correlation Analysis"
      ],
      "metadata": {
        "id": "Xa4u6vYnDk9Q"
      },
      "execution_count": null,
      "outputs": []
    },
    {
      "cell_type": "code",
      "source": [
        "data1.corr()"
      ],
      "metadata": {
        "id": "yxf0FA2ZDrhi"
      },
      "execution_count": null,
      "outputs": []
    },
    {
      "cell_type": "code",
      "source": [
        "sns.set_style(style='darkgrid')\n",
        "sns.pairplot(data1)"
      ],
      "metadata": {
        "id": "E_tevyQpDu9_"
      },
      "execution_count": null,
      "outputs": []
    },
    {
      "cell_type": "code",
      "source": [
        "#Model Building"
      ],
      "metadata": {
        "id": "U2njxqguDyoc"
      },
      "execution_count": null,
      "outputs": []
    },
    {
      "cell_type": "code",
      "source": [
        "model=smf.ols(\"Profit~RDS+ADMS+MKTS\",data=data1).fit()"
      ],
      "metadata": {
        "id": "iPx4IPOSD9pn"
      },
      "execution_count": null,
      "outputs": []
    },
    {
      "cell_type": "code",
      "source": [
        "#Model Testing"
      ],
      "metadata": {
        "id": "_njBOEydEBKC"
      },
      "execution_count": null,
      "outputs": []
    },
    {
      "cell_type": "code",
      "source": [
        "# Finding Coefficient parameters\n",
        "model.params"
      ],
      "metadata": {
        "id": "S8oLu3-ZEFGu"
      },
      "execution_count": null,
      "outputs": []
    },
    {
      "cell_type": "code",
      "source": [
        "# Finding tvalues and pvalues\n",
        "model.tvalues , np.round(model.pvalues,5)"
      ],
      "metadata": {
        "id": "SXOqFZYuEJpS"
      },
      "execution_count": null,
      "outputs": []
    },
    {
      "cell_type": "code",
      "source": [
        "# Finding rsquared values\n",
        "model.rsquared , model.rsquared_adj  # Model accuracy is 94.75%"
      ],
      "metadata": {
        "id": "AC3fB_POEN-7"
      },
      "execution_count": null,
      "outputs": []
    },
    {
      "cell_type": "code",
      "source": [
        "# Build SLR and MLR models for insignificant variables 'ADMS' and 'MKTS'\n",
        "# Also find their tvalues and pvalues"
      ],
      "metadata": {
        "id": "sMFmxHrqER6S"
      },
      "execution_count": null,
      "outputs": []
    },
    {
      "cell_type": "code",
      "source": [
        "slr_a=smf.ols(\"Profit~ADMS\",data=data1).fit()\n",
        "slr_a.tvalues , slr_a.pvalues  # ADMS has in-significant pvalue"
      ],
      "metadata": {
        "id": "BZfwzKupEUo4"
      },
      "execution_count": null,
      "outputs": []
    },
    {
      "cell_type": "code",
      "source": [
        "slr_m=smf.ols(\"Profit~MKTS\",data=data1).fit()\n",
        "slr_m.tvalues , slr_m.pvalues  # MKTS has significant pvalue"
      ],
      "metadata": {
        "id": "lFb3yTx0EYFi"
      },
      "execution_count": null,
      "outputs": []
    },
    {
      "cell_type": "code",
      "source": [
        "mlr_am=smf.ols(\"Profit~ADMS+MKTS\",data=data1).fit()\n",
        "mlr_am.tvalues , mlr_am.pvalues  # varaibles have significant pvalues"
      ],
      "metadata": {
        "id": "OFntzn-FEdoL"
      },
      "execution_count": null,
      "outputs": []
    },
    {
      "cell_type": "code",
      "source": [
        "#Model Validation\n",
        "#Two Techniques: 1. Collinearity Check & 2. Residual Analysis"
      ],
      "metadata": {
        "id": "3Tg-epAWEiVi"
      },
      "execution_count": null,
      "outputs": []
    },
    {
      "cell_type": "code",
      "source": [
        "# 1) Collinearity Problem Check\n",
        "# Calculate VIF = 1/(1-Rsquare) for all independent variables"
      ],
      "metadata": {
        "id": "0znHGMYuEpXc"
      },
      "execution_count": null,
      "outputs": []
    },
    {
      "cell_type": "code",
      "source": [
        "rsq_r=smf.ols(\"RDS~ADMS+MKTS\",data=data1).fit().rsquared\n",
        "vif_r=1/(1-rsq_r)"
      ],
      "metadata": {
        "id": "_LFT_GnVEtAW"
      },
      "execution_count": null,
      "outputs": []
    },
    {
      "cell_type": "code",
      "source": [
        "rsq_a=smf.ols(\"ADMS~RDS+MKTS\",data=data1).fit().rsquared\n",
        "vif_a=1/(1-rsq_a)\n"
      ],
      "metadata": {
        "id": "7OD8EIbsE8WP"
      },
      "execution_count": null,
      "outputs": []
    },
    {
      "cell_type": "code",
      "source": [
        "rsq_m=smf.ols(\"MKTS~RDS+ADMS\",data=data1).fit().rsquared\n",
        "vif_m=1/(1-rsq_m)"
      ],
      "metadata": {
        "id": "UBicKrU6FADn"
      },
      "execution_count": null,
      "outputs": []
    },
    {
      "cell_type": "code",
      "source": [
        "# Putting the values in Dataframe format\n",
        "d1={'Variables':['RDS','ADMS','MKTS'],'Vif':[vif_r,vif_a,vif_m]}\n",
        "Vif_df=pd.DataFrame(d1)\n",
        "Vif_df"
      ],
      "metadata": {
        "id": "zkRu6EtYFFIB"
      },
      "execution_count": null,
      "outputs": []
    },
    {
      "cell_type": "code",
      "source": [
        "# None variable has VIF>20, No Collinearity, so consider all varaibles in Regression equation"
      ],
      "metadata": {
        "id": "Mr3ax4t8FI7t"
      },
      "execution_count": null,
      "outputs": []
    },
    {
      "cell_type": "code",
      "source": [
        "# 2) Residual Analysis\n",
        "# Test for Normality of Residuals (Q-Q Plot) using residual model (model.resid)\n",
        "\n",
        "sm.qqplot(model.resid,line='q')\n",
        "plt.title(\"Normal Q-Q plot of residuals\")\n",
        "plt.show()"
      ],
      "metadata": {
        "id": "MuDeXQ5lFOzr"
      },
      "execution_count": null,
      "outputs": []
    },
    {
      "cell_type": "code",
      "source": [
        "list(np.where(model.resid<-30000))"
      ],
      "metadata": {
        "id": "vX7iuhaBFTh8"
      },
      "execution_count": null,
      "outputs": []
    },
    {
      "cell_type": "code",
      "source": [
        "# Test for Homoscedasticity or Heteroscedasticity (plotting model's standardized fitted values vs standardized residual values)\n",
        "\n",
        "def standard_values(vals) : return (vals-vals.mean())/vals.std()  # User defined z = (x - mu)/sigma"
      ],
      "metadata": {
        "id": "pT7KO0tUFhEi"
      },
      "execution_count": null,
      "outputs": []
    },
    {
      "cell_type": "code",
      "source": [
        "plt.scatter(standard_values(model.fittedvalues),standard_values(model.resid))\n",
        "plt.title('Residual Plot')\n",
        "plt.xlabel('standardized fitted values')\n",
        "plt.ylabel('standardized residual values')\n",
        "plt.show() "
      ],
      "metadata": {
        "id": "2Q5NOO4iFlM_"
      },
      "execution_count": null,
      "outputs": []
    },
    {
      "cell_type": "code",
      "source": [
        "# Test for errors or Residuals Vs Regressors or independent 'x' variables or predictors \n",
        "# using Residual Regression Plots code graphics.plot_regress_exog(model,'x',fig)    # exog = x-variable & endog = y-variable"
      ],
      "metadata": {
        "id": "bX5BHyemFqhW"
      },
      "execution_count": null,
      "outputs": []
    },
    {
      "cell_type": "code",
      "source": [
        "fig=plt.figure(figsize=(15,8))\n",
        "sm.graphics.plot_regress_exog(model,'RDS',fig=fig)\n",
        "plt.show()"
      ],
      "metadata": {
        "id": "Nx70ZLSmFwYl"
      },
      "execution_count": null,
      "outputs": []
    },
    {
      "cell_type": "code",
      "source": [
        "fig=plt.figure(figsize=(15,8))\n",
        "sm.graphics.plot_regress_exog(model,'ADMS',fig=fig)\n",
        "plt.show()"
      ],
      "metadata": {
        "id": "u5mFJVy7F1Fa"
      },
      "execution_count": null,
      "outputs": []
    },
    {
      "cell_type": "code",
      "source": [
        "fig=plt.figure(figsize=(15,8))\n",
        "sm.graphics.plot_regress_exog(model,'MKTS',fig=fig)\n",
        "plt.show()"
      ],
      "metadata": {
        "id": "qcxLyHcFGLRK"
      },
      "execution_count": null,
      "outputs": []
    },
    {
      "cell_type": "code",
      "source": [
        "#Model Deletion Diagnostics (checking Outliers or Influencers)\n",
        "#Two Techniques : 1. Cook's Distance & 2. Leverage value"
      ],
      "metadata": {
        "id": "9-4KT9XEGdMR"
      },
      "execution_count": null,
      "outputs": []
    },
    {
      "cell_type": "code",
      "source": [
        "# 1. Cook's Distance: If Cook's distance > 1, then it's an outlier\n",
        "# Get influencers using cook's distance\n",
        "(c,_)=model.get_influence().cooks_distance\n",
        "c"
      ],
      "metadata": {
        "id": "zA8DB423GkjS"
      },
      "execution_count": null,
      "outputs": []
    },
    {
      "cell_type": "code",
      "source": [
        "# Plot the influencers using the stem plot\n",
        "fig=plt.figure(figsize=(20,7))\n",
        "plt.stem(np.arange(len(data1)),np.round(c,5))\n",
        "plt.xlabel('Row Index')\n",
        "plt.ylabel('Cooks Distance')\n",
        "plt.show()"
      ],
      "metadata": {
        "id": "Kr8naTR_GpVn"
      },
      "execution_count": null,
      "outputs": []
    },
    {
      "cell_type": "code",
      "source": [
        "# Index and value of influencer where C>0.5\n",
        "np.argmax(c) , np.max(c)"
      ],
      "metadata": {
        "id": "60OIAsqIGs-3"
      },
      "execution_count": null,
      "outputs": []
    },
    {
      "cell_type": "code",
      "source": [
        "# 2. Leverage Value using High Influence Points : Points beyond Leverage_cutoff value are influencers\n",
        "influence_plot(model)\n",
        "plt.show()"
      ],
      "metadata": {
        "id": "IyBVlnwZGxv5"
      },
      "execution_count": null,
      "outputs": []
    },
    {
      "cell_type": "code",
      "source": [
        "# Leverage Cuttoff Value = 3*(k+1)/n ; k = no.of features/columns & n = no. of datapoints\n",
        "k=data1.shape[1]\n",
        "n=data1.shape[0]\n",
        "leverage_cutoff = (3*(k+1))/n\n",
        "leverage_cutoff"
      ],
      "metadata": {
        "id": "a4S6mP4XG9Gm"
      },
      "execution_count": null,
      "outputs": []
    },
    {
      "cell_type": "code",
      "source": [
        "data1[data1.index.isin([49])] "
      ],
      "metadata": {
        "id": "OIoSvTR2HAsF"
      },
      "execution_count": null,
      "outputs": []
    },
    {
      "cell_type": "code",
      "source": [
        "#Improving the Model"
      ],
      "metadata": {
        "id": "ynuhzqFMHExj"
      },
      "execution_count": null,
      "outputs": []
    },
    {
      "cell_type": "code",
      "source": [
        "# Discard the data points which are influencers and reassign the row number (reset_index(drop=True))\n",
        "data2=data1.drop(data1.index[[49]],axis=0).reset_index(drop=True)\n",
        "data2"
      ],
      "metadata": {
        "id": "nXhAuhgmHJki"
      },
      "execution_count": null,
      "outputs": []
    },
    {
      "cell_type": "code",
      "source": [
        "#Model Deletion Diagnostics and Final Model"
      ],
      "metadata": {
        "id": "MEWZkGu3HNsy"
      },
      "execution_count": null,
      "outputs": []
    },
    {
      "cell_type": "code",
      "source": [
        "while np.max(c)>0.5 :\n",
        "    model=smf.ols(\"Profit~RDS+ADMS+MKTS\",data=data2).fit()\n",
        "    (c,_)=model.get_influence().cooks_distance\n",
        "    c\n",
        "    np.argmax(c) , np.max(c)\n",
        "    data2=data2.drop(data2.index[[np.argmax(c)]],axis=0).reset_index(drop=True)\n",
        "    data2\n",
        "else:\n",
        "    final_model=smf.ols(\"Profit~RDS+ADMS+MKTS\",data=data2).fit()\n",
        "    final_model.rsquared , final_model.aic\n",
        "    print(\"Thus model accuracy is improved to\",final_model.rsquared)"
      ],
      "metadata": {
        "id": "NbCs1TfFHRy6"
      },
      "execution_count": null,
      "outputs": []
    },
    {
      "cell_type": "code",
      "source": [
        "final_model.rsquared"
      ],
      "metadata": {
        "id": "O2sUaQhEHWo9"
      },
      "execution_count": null,
      "outputs": []
    },
    {
      "cell_type": "code",
      "source": [
        "data2"
      ],
      "metadata": {
        "id": "0bx8XyQ7HbXZ"
      },
      "execution_count": null,
      "outputs": []
    },
    {
      "cell_type": "code",
      "source": [
        "#Model Predictions"
      ],
      "metadata": {
        "id": "lc8MQk95Hefx"
      },
      "execution_count": null,
      "outputs": []
    },
    {
      "cell_type": "code",
      "source": [
        "# say New data for prediction is\n",
        "new_data=pd.DataFrame({'RDS':70000,\"ADMS\":90000,\"MKTS\":140000},index=[0])\n",
        "new_data"
      ],
      "metadata": {
        "id": "iI6S2ROwHkd5"
      },
      "execution_count": null,
      "outputs": []
    },
    {
      "cell_type": "code",
      "source": [
        "# Manual Prediction of Price\n",
        "final_model.predict(new_data)"
      ],
      "metadata": {
        "id": "kEY4ZJaOHpMa"
      },
      "execution_count": null,
      "outputs": []
    },
    {
      "cell_type": "code",
      "source": [
        "# Automatic Prediction of Price with 90.02% accurcy\n",
        "pred_y=final_model.predict(data2)\n",
        "pred_y"
      ],
      "metadata": {
        "id": "4ee6M9tnHsoI"
      },
      "execution_count": null,
      "outputs": []
    },
    {
      "cell_type": "code",
      "source": [
        "#table containing R^2 value for each prepared model"
      ],
      "metadata": {
        "id": "5dWiBJgjHxn9"
      },
      "execution_count": null,
      "outputs": []
    },
    {
      "cell_type": "code",
      "source": [
        "d2={'Prep_Models':['Model','Final_Model'],'Rsquared':[model.rsquared,final_model.rsquared]}\n",
        "table=pd.DataFrame(d2)\n",
        "table"
      ],
      "metadata": {
        "id": "tUOEede0H382"
      },
      "execution_count": null,
      "outputs": []
    },
    {
      "cell_type": "code",
      "source": [
        ""
      ],
      "metadata": {
        "id": "jTpwKPTGH7TW"
      },
      "execution_count": null,
      "outputs": []
    }
  ]
}